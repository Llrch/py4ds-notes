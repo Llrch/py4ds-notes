{
 "cells": [
  {
   "attachments": {},
   "cell_type": "markdown",
   "metadata": {},
   "source": [
    "# Python for Data Science\n",
    "This notebook is consisting from my notes taken for Python for Data Science course.\n",
    "The course that I will follow is: [py4ds](https://github.com/tarikaltuncu/py4ds)\n",
    "## Introduction Notes\n",
    "Cheatsheet: [IBM Cheatsheet](https://www.ibm.com/docs/en/watson-studio-local/1.2.3?topic=notebooks-markdown-jupyter-cheatsheet)\n",
    "### 1. Command mode for Notebook\n",
    "You can start any code cell with ! to run it as a shell command. For example, you can use !ls to list the files in the current directory.\n",
    "Using ! allows to run commands like ls or pip or what you have available on your OS."
   ]
  },
  {
   "cell_type": "code",
   "execution_count": 9,
   "metadata": {},
   "outputs": [
    {
     "name": "stdout",
     "output_type": "stream",
     "text": [
      " Volume in drive C has no label.\n",
      " Volume Serial Number is A6FF-4C6E\n",
      "\n",
      " Directory of c:\\Users\\malia\\Repos\\py4ds-notes\\Notes\n",
      "\n",
      "24.03.2023  21:47    <DIR>          .\n",
      "24.03.2023  21:47    <DIR>          ..\n",
      "24.03.2023  21:39             2.075 Introduction.ipynb\n",
      "               1 File(s)          2.075 bytes\n",
      "               2 Dir(s)  134.919.290.880 bytes free\n"
     ]
    }
   ],
   "source": [
    "%ls"
   ]
  },
  {
   "cell_type": "code",
   "execution_count": 13,
   "metadata": {},
   "outputs": [
    {
     "name": "stdout",
     "output_type": "stream",
     "text": [
      "Requirement already satisfied: ipykernel in c:\\users\\malia\\appdata\\roaming\\python\\python310\\site-packages (6.22.0)\n",
      "Requirement already satisfied: ipython in c:\\users\\malia\\appdata\\roaming\\python\\python310\\site-packages (8.11.0)\n",
      "Requirement already satisfied: numpy in c:\\users\\malia\\appdata\\local\\programs\\python\\python310\\lib\\site-packages (1.21.5)\n",
      "Collecting pandas\n",
      "  Downloading pandas-1.5.3-cp310-cp310-win_amd64.whl (10.4 MB)\n",
      "     ---------------------------------------- 10.4/10.4 MB 8.1 MB/s eta 0:00:00\n",
      "Requirement already satisfied: jupyter-client>=6.1.12 in c:\\users\\malia\\appdata\\roaming\\python\\python310\\site-packages (from ipykernel) (8.1.0)\n",
      "Requirement already satisfied: tornado>=6.1 in c:\\users\\malia\\appdata\\roaming\\python\\python310\\site-packages (from ipykernel) (6.2)\n",
      "Requirement already satisfied: psutil in c:\\users\\malia\\appdata\\roaming\\python\\python310\\site-packages (from ipykernel) (5.9.4)\n",
      "Requirement already satisfied: comm>=0.1.1 in c:\\users\\malia\\appdata\\roaming\\python\\python310\\site-packages (from ipykernel) (0.1.3)\n",
      "Requirement already satisfied: debugpy>=1.6.5 in c:\\users\\malia\\appdata\\roaming\\python\\python310\\site-packages (from ipykernel) (1.6.6)\n",
      "Requirement already satisfied: packaging in c:\\users\\malia\\appdata\\roaming\\python\\python310\\site-packages (from ipykernel) (23.0)\n",
      "Requirement already satisfied: nest-asyncio in c:\\users\\malia\\appdata\\roaming\\python\\python310\\site-packages (from ipykernel) (1.5.6)\n",
      "Requirement already satisfied: jupyter-core!=5.0.*,>=4.12 in c:\\users\\malia\\appdata\\roaming\\python\\python310\\site-packages (from ipykernel) (5.3.0)\n",
      "Requirement already satisfied: pyzmq>=20 in c:\\users\\malia\\appdata\\roaming\\python\\python310\\site-packages (from ipykernel) (25.0.2)\n",
      "Requirement already satisfied: matplotlib-inline>=0.1 in c:\\users\\malia\\appdata\\roaming\\python\\python310\\site-packages (from ipykernel) (0.1.6)\n",
      "Requirement already satisfied: traitlets>=5.4.0 in c:\\users\\malia\\appdata\\roaming\\python\\python310\\site-packages (from ipykernel) (5.9.0)\n",
      "Requirement already satisfied: pygments>=2.4.0 in c:\\users\\malia\\appdata\\roaming\\python\\python310\\site-packages (from ipython) (2.14.0)\n",
      "Requirement already satisfied: backcall in c:\\users\\malia\\appdata\\roaming\\python\\python310\\site-packages (from ipython) (0.2.0)\n",
      "Requirement already satisfied: pickleshare in c:\\users\\malia\\appdata\\roaming\\python\\python310\\site-packages (from ipython) (0.7.5)\n",
      "Requirement already satisfied: stack-data in c:\\users\\malia\\appdata\\roaming\\python\\python310\\site-packages (from ipython) (0.6.2)\n",
      "Requirement already satisfied: jedi>=0.16 in c:\\users\\malia\\appdata\\roaming\\python\\python310\\site-packages (from ipython) (0.18.2)\n",
      "Requirement already satisfied: decorator in c:\\users\\malia\\appdata\\roaming\\python\\python310\\site-packages (from ipython) (5.1.1)\n",
      "Requirement already satisfied: prompt-toolkit!=3.0.37,<3.1.0,>=3.0.30 in c:\\users\\malia\\appdata\\roaming\\python\\python310\\site-packages (from ipython) (3.0.38)\n",
      "Requirement already satisfied: colorama in c:\\users\\malia\\appdata\\roaming\\python\\python310\\site-packages (from ipython) (0.4.6)\n",
      "Requirement already satisfied: python-dateutil>=2.8.1 in c:\\users\\malia\\appdata\\roaming\\python\\python310\\site-packages (from pandas) (2.8.2)\n",
      "Collecting pytz>=2020.1\n",
      "  Using cached pytz-2022.7.1-py2.py3-none-any.whl (499 kB)\n",
      "Requirement already satisfied: parso<0.9.0,>=0.8.0 in c:\\users\\malia\\appdata\\roaming\\python\\python310\\site-packages (from jedi>=0.16->ipython) (0.8.3)\n",
      "Requirement already satisfied: pywin32>=300 in c:\\users\\malia\\appdata\\roaming\\python\\python310\\site-packages (from jupyter-core!=5.0.*,>=4.12->ipykernel) (305)\n",
      "Requirement already satisfied: platformdirs>=2.5 in c:\\users\\malia\\appdata\\roaming\\python\\python310\\site-packages (from jupyter-core!=5.0.*,>=4.12->ipykernel) (3.1.1)\n",
      "Requirement already satisfied: wcwidth in c:\\users\\malia\\appdata\\roaming\\python\\python310\\site-packages (from prompt-toolkit!=3.0.37,<3.1.0,>=3.0.30->ipython) (0.2.6)\n",
      "Requirement already satisfied: six>=1.5 in c:\\users\\malia\\appdata\\roaming\\python\\python310\\site-packages (from python-dateutil>=2.8.1->pandas) (1.16.0)\n",
      "Requirement already satisfied: pure-eval in c:\\users\\malia\\appdata\\roaming\\python\\python310\\site-packages (from stack-data->ipython) (0.2.2)\n",
      "Requirement already satisfied: asttokens>=2.1.0 in c:\\users\\malia\\appdata\\roaming\\python\\python310\\site-packages (from stack-data->ipython) (2.2.1)\n",
      "Requirement already satisfied: executing>=1.2.0 in c:\\users\\malia\\appdata\\roaming\\python\\python310\\site-packages (from stack-data->ipython) (1.2.0)\n",
      "Installing collected packages: pytz, pandas\n",
      "Successfully installed pandas-1.5.3 pytz-2022.7.1\n",
      "Note: you may need to restart the kernel to use updated packages.\n"
     ]
    },
    {
     "name": "stderr",
     "output_type": "stream",
     "text": [
      "WARNING: You are using pip version 22.0; however, version 23.0.1 is available.\n",
      "You should consider upgrading via the 'c:\\Users\\malia\\AppData\\Local\\Programs\\Python\\Python310\\python.exe -m pip install --upgrade pip' command.\n"
     ]
    }
   ],
   "source": [
    "%pip install ipykernel ipython numpy pandas"
   ]
  }
 ],
 "metadata": {
  "kernelspec": {
   "display_name": "Python 3",
   "language": "python",
   "name": "python3"
  },
  "language_info": {
   "codemirror_mode": {
    "name": "ipython",
    "version": 3
   },
   "file_extension": ".py",
   "mimetype": "text/x-python",
   "name": "python",
   "nbconvert_exporter": "python",
   "pygments_lexer": "ipython3",
   "version": "3.10.1"
  },
  "orig_nbformat": 4,
  "vscode": {
   "interpreter": {
    "hash": "e791fc644de8a2a45a233fd18641ae2f3b7ed840a58b84ec7e10871a0d7e49c1"
   }
  }
 },
 "nbformat": 4,
 "nbformat_minor": 2
}
