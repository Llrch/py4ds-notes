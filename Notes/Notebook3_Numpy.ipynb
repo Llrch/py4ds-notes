{
 "cells": [
  {
   "attachments": {},
   "cell_type": "markdown",
   "metadata": {},
   "source": [
    "# NumPy\n",
    "\n",
    "NumPy is a library that is written in C programming language. Since C is a statically-typed programming language, it is much more faster than dynamically-typed languages like Python."
   ]
  },
  {
   "attachments": {},
   "cell_type": "markdown",
   "metadata": {},
   "source": [
    "## Basics"
   ]
  },
  {
   "cell_type": "code",
   "execution_count": 1,
   "metadata": {},
   "outputs": [],
   "source": [
    "import numpy as np"
   ]
  },
  {
   "cell_type": "code",
   "execution_count": 2,
   "metadata": {},
   "outputs": [
    {
     "name": "stdout",
     "output_type": "stream",
     "text": [
      "[[2 3 4]\n",
      " [4 5 6]\n",
      " [6 7 8]]\n",
      "\n",
      "[0 0 0 0 0 0 0 0 0 0]\n",
      "\n",
      "[[1. 1. 1. 1. 1.]\n",
      " [1. 1. 1. 1. 1.]\n",
      " [1. 1. 1. 1. 1.]]\n"
     ]
    },
    {
     "data": {
      "text/plain": [
       "array([[2, 0, 5],\n",
       "       [7, 3, 6],\n",
       "       [5, 2, 2]])"
      ]
     },
     "execution_count": 2,
     "metadata": {},
     "output_type": "execute_result"
    }
   ],
   "source": [
    "# Arrays: faster way to handle data in Python\n",
    "array01 = np.array([1, 5, 9, 3, 5, 7]) # to create an array\n",
    "# arrays are type-sensitive so all elements should have same type\n",
    "\n",
    "array02 = np.array([range(i, i + 3) for i in [2, 4, 6]])\n",
    "# we can create multi-dimensional arrays\n",
    "print(array02)\n",
    "print()\n",
    "\n",
    "# Create a length-10 integer array filled with zeros\n",
    "array03 = np.zeros(10, dtype=int) # dtype: to define type of elements in an array\n",
    "print(array03)\n",
    "print()\n",
    "\n",
    "# Create a 3x5 floating-point array filled with ones\n",
    "array04 = np.ones((3, 5), dtype=float)\n",
    "print(array04)\n",
    "\n",
    "# Create a 3x5 array filled with 3.14\n",
    "np.full((3, 5), 3.14)\n",
    "\n",
    "# Create an array filled with a linear sequence\n",
    "# Starting at 0, ending at 20, stepping by 2\n",
    "# (this is similar to the built-in range() function)\n",
    "np.arange(0, 20, 2)\n",
    "\n",
    "# Create an array of five values evenly spaced between 0 and 1\n",
    "np.linspace(0, 1, 5)\n",
    "\n",
    "# Create a 3x3 array of uniformly distributed\n",
    "# random values between 0 and 1\n",
    "np.random.random((3, 3))\n",
    "\n",
    "# Create a 3x3 array of normally distributed random values\n",
    "# with mean 0 and standard deviation 1\n",
    "np.random.normal(0, 1, (3, 3))\n",
    "\n",
    "# Create a 3x3 array of random integers in the interval [0, 10)\n",
    "np.random.randint(0, 10, (3, 3))"
   ]
  },
  {
   "attachments": {},
   "cell_type": "markdown",
   "metadata": {},
   "source": [
    "## Array Attributes"
   ]
  },
  {
   "cell_type": "code",
   "execution_count": 3,
   "metadata": {},
   "outputs": [
    {
     "name": "stdout",
     "output_type": "stream",
     "text": [
      "[[[2 7 8 9 3]\n",
      "  [1 2 4 2 8]\n",
      "  [8 1 8 5 0]\n",
      "  [8 0 8 3 8]]\n",
      "\n",
      " [[2 6 1 6 2]\n",
      "  [1 8 1 3 0]\n",
      "  [9 4 9 4 9]\n",
      "  [4 4 4 2 2]]\n",
      "\n",
      " [[1 4 6 5 6]\n",
      "  [5 6 6 3 3]\n",
      "  [9 2 2 0 9]\n",
      "  [4 8 7 8 3]]]\n",
      "--------------------------------------------------------\n",
      "x1 ndim:  3\n",
      "x1 shape: (3, 4, 5)\n",
      "x1 size:  60\n",
      "x1 dtype: int32\n",
      "--------------------------------------------------------\n",
      "[2 7 8 9 3]\n",
      "[5 7 8 9 3]\n",
      "--------------------------------------------------------\n",
      "[0 1 2 3 4 5 6 7 8 9]\n",
      "[1 3 5 7 9]\n",
      "--------------------------------------------------------\n",
      "[[1 2 3]\n",
      " [4 5 6]\n",
      " [7 8 9]]\n",
      "--------------------------------------------------------\n",
      "[[1 2 3]\n",
      " [3 2 1]]\n",
      "\n",
      "[[9 2 3]\n",
      " [1 2 3]\n",
      " [3 2 1]]\n",
      "\n",
      "[[ 1  2  3 99]\n",
      " [ 3  2  1 99]]\n",
      "--------------------------------------------------------\n",
      "[1 2 3] [99 99] [3 2 1]\n",
      "--------------------------------------------------------\n",
      "[0 1 2]\n",
      "[[0]\n",
      " [1]\n",
      " [2]]\n",
      "[[0 1 2]\n",
      " [1 2 3]\n",
      " [2 3 4]]\n",
      "--------------------------------------------------------\n",
      "[6 7 8 9]\n"
     ]
    }
   ],
   "source": [
    "# Creating a three-dimensional array\n",
    "x1 = np.random.randint(10, size=(3, 4, 5))\n",
    "# size=(number of dimension, size of dimension's rows, size of dimension's columns)\n",
    "print(x1)\n",
    "print(\"--------------------------------------------------------\")\n",
    "# Each array has attributes ndim (the number of dimensions), shape (the size of each dimension) and size (total)\n",
    "print(\"x1 ndim: \", x1.ndim)\n",
    "print(\"x1 shape:\", x1.shape)\n",
    "print(\"x1 size: \", x1.size) # 3*4*5\n",
    "\n",
    "# Another useful attribute is the dtype, the data type of the array\n",
    "print(\"x1 dtype:\", x1.dtype)\n",
    "print(\"--------------------------------------------------------\")\n",
    "# Other attributes include itemsize, which lists the size (in bytes) of each array element\n",
    "# and nbytes, which lists the total size (in bytes) of the array\n",
    "\n",
    "\n",
    "# Array Indexing\n",
    "\n",
    "# Values can be modified using any of the index notation\n",
    "print(x1[0, 0])\n",
    "x1[0, 0, 0] = 5\n",
    "print(x1[0, 0])\n",
    "print(\"--------------------------------------------------------\")\n",
    "\n",
    "# Array Slicing\n",
    "\n",
    "# x[start:stop:step] If any of these are unspecified\n",
    "# they default to the values start=0, stop=size of dimension, step=1\n",
    "\n",
    "x2 = np.arange(10)\n",
    "x2_sub = x2[1::2] # x2_sub is a subarray of x2. Since it is not a copy, changings in subarray affects main array\n",
    "x2_sub_copy = x2_sub.copy() # to create a copy of an array\n",
    "print(x2)\n",
    "print(x2_sub)\n",
    "print(\"--------------------------------------------------------\")\n",
    "\n",
    "# Reshaping of Arrays\n",
    "\n",
    "grid = np.arange(1, 10).reshape((3, 3))\n",
    "print(grid)\n",
    "print(\"--------------------------------------------------------\")\n",
    "\n",
    "# Array Concatenation and Splitting\n",
    "\n",
    "x = np.array([1, 2, 3])\n",
    "y = np.array([3, 2, 1])\n",
    "z = np.concatenate([x, y]).reshape((2, 3)) # Concatenates two arrays\n",
    "print(z)\n",
    "print()\n",
    "\n",
    "x[0] = 9\n",
    "# vertically stack the arrays\n",
    "print(np.vstack([x, z]))\n",
    "print()\n",
    "\n",
    "y = np.array([[99],\n",
    "              [99]])\n",
    "print(np.hstack([z, y]))\n",
    "print(\"--------------------------------------------------------\")\n",
    "\n",
    "# Splitting of arrays\n",
    "x = [1, 2, 3, 99, 99, 3, 2, 1]\n",
    "x1, x2, x3 = np.split(x, [3, 5])\n",
    "print(x1, x2, x3)\n",
    "print(\"--------------------------------------------------------\")\n",
    "\n",
    "\n",
    "# Computation on NumPy\n",
    "\n",
    "# np.absolute() or np.abs()\n",
    "# np.sin(), cos, tan\n",
    "# np.power(3, x)\n",
    "# np.log(x)\n",
    "\n",
    "\n",
    "# Aggregations on NumPy\n",
    "\n",
    "# np.sum()\n",
    "# np.max(), np.min()\n",
    "\n",
    "\n",
    "# Broadcasting (Yaymak)\n",
    "\n",
    "x = np.arange(3)\n",
    "y = np.arange(3)[:, np.newaxis]\n",
    "print(x, end=\"\\n\")\n",
    "print(y, end=\"\\n\")\n",
    "print(x+y)\n",
    "print(\"--------------------------------------------------------\")\n",
    "\n",
    "\n",
    "# Boolean Arrays\n",
    "\n",
    "#np.all(), np.any() give boolean expression\n",
    "\n",
    "# Masking\n",
    "x = np.arange(10)\n",
    "masked = x[x>5] # gives an array filled with all the values that meet the condition\n",
    "print(masked)"
   ]
  },
  {
   "attachments": {},
   "cell_type": "markdown",
   "metadata": {},
   "source": [
    "## Indice and Sorting"
   ]
  },
  {
   "cell_type": "code",
   "execution_count": 4,
   "metadata": {},
   "outputs": [
    {
     "name": "stdout",
     "output_type": "stream",
     "text": [
      "[4 2 3 5 6]\n",
      "[1 2 0 3 4]\n"
     ]
    }
   ],
   "source": [
    "x = np.arange(2, 7)\n",
    "np.random.shuffle(x)\n",
    "print(x)\n",
    "i = np.argsort(x) # gives indices of sorted array\n",
    "print(i)"
   ]
  },
  {
   "cell_type": "code",
   "execution_count": 5,
   "metadata": {},
   "outputs": [
    {
     "name": "stdout",
     "output_type": "stream",
     "text": [
      "[[11 24 33 19]\n",
      " [15 12 33 25]\n",
      " [11 30 23 27]\n",
      " [15 15 28 25]]\n",
      "\n",
      "[[11 12 23 19]\n",
      " [11 15 28 25]\n",
      " [15 24 33 25]\n",
      " [15 30 33 27]]\n",
      "\n",
      "[[11 19 24 33]\n",
      " [12 15 25 33]\n",
      " [11 23 27 30]\n",
      " [15 15 25 28]]\n"
     ]
    }
   ],
   "source": [
    "rand = np.random.RandomState(42) # ?\n",
    "z = rand.randint(5, 35, (4, 4)) # random.randint(low, high=None, size=None, dtype=int)\n",
    "print(z)\n",
    "print()\n",
    "\n",
    "print(np.sort(z, axis=0))\n",
    "print()\n",
    "\n",
    "print(np.sort(z, axis=1))"
   ]
  },
  {
   "cell_type": "code",
   "execution_count": 6,
   "metadata": {},
   "outputs": [
    {
     "name": "stdout",
     "output_type": "stream",
     "text": [
      "[2 0 3 1 5 8 6 7 8]\n"
     ]
    }
   ],
   "source": [
    "x = np.array([5, 8, 7, 6, 8, 2, 1, 3, 0])\n",
    "print(np.partition(x, 4)) # returns an array which is sorted wrt the key value. left of array is smaller than key"
   ]
  },
  {
   "cell_type": "code",
   "execution_count": 7,
   "metadata": {},
   "outputs": [
    {
     "name": "stdout",
     "output_type": "stream",
     "text": [
      "[('name', '<U10'), ('age', '<i4'), ('weight', '<f8')]\n",
      "\n",
      "[('Alice', 25, 55. ) ('Bob', 45, 85.5) ('Cathy', 37, 68. )\n",
      " ('Doug', 19, 61.5)]\n"
     ]
    }
   ],
   "source": [
    "#%% Structured Data\n",
    "\n",
    "# Imagine that we have several categories of data on a number of people\n",
    "# To save this data on a single structure, we use structured datas\n",
    "name = ['Alice', 'Bob', 'Cathy', 'Doug']\n",
    "age = [25, 45, 37, 19]\n",
    "weight = [55.0, 85.5, 68.0, 61.5]\n",
    "\n",
    "# We can create a structured array using a compound data type specification\n",
    "data = np.zeros(4, dtype={'names':('name', 'age', 'weight'),\n",
    "                          'formats':('U10', 'i4', 'f8')})\n",
    "print(data.dtype)\n",
    "print()\n",
    "\n",
    "data['name'] = name\n",
    "data['age'] = age\n",
    "data['weight'] = weight\n",
    "print(data)"
   ]
  },
  {
   "cell_type": "code",
   "execution_count": 8,
   "metadata": {},
   "outputs": [
    {
     "name": "stdout",
     "output_type": "stream",
     "text": [
      "[55 55 90 90]\n",
      "[55 55 90 90]\n",
      "[10 40 55 10]\n",
      "[10 40 55 10]\n"
     ]
    }
   ],
   "source": [
    "\n",
    "#%% How to get the minimum and maximum value of a given NumPy array along the second axis?\n",
    "data = [[10, 10, 90, 90],\n",
    "        [40, 40, 60, 60],\n",
    "        [55, 55, 65, 65],\n",
    "        [10, 30, 60, 90]]\n",
    "a1 = np.array(data)\n",
    "amax = np.amax(a1, 0) # First axis means column-wise and second axis means row-wise.\n",
    "# For amax, by default: axis=0 means second axis(row-wise)\n",
    "amax2 = np.max(a1, 0) # We can also use max function with axis attribute instead of amax function.\n",
    "# For max, by default: axis=0 means first axis(column-wise)\n",
    "amin = np.amin(a1, 1)\n",
    "amin2 = np.min(a1, axis=1)\n",
    "\n",
    "print(amax)\n",
    "print(amax2)\n",
    "print(amin)\n",
    "print(amin2)"
   ]
  }
 ],
 "metadata": {
  "kernelspec": {
   "display_name": "Python 3",
   "language": "python",
   "name": "python3"
  },
  "language_info": {
   "codemirror_mode": {
    "name": "ipython",
    "version": 3
   },
   "file_extension": ".py",
   "mimetype": "text/x-python",
   "name": "python",
   "nbconvert_exporter": "python",
   "pygments_lexer": "ipython3",
   "version": "3.10.1"
  },
  "orig_nbformat": 4,
  "vscode": {
   "interpreter": {
    "hash": "e791fc644de8a2a45a233fd18641ae2f3b7ed840a58b84ec7e10871a0d7e49c1"
   }
  }
 },
 "nbformat": 4,
 "nbformat_minor": 2
}
